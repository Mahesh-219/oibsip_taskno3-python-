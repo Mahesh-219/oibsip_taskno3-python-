{
  "nbformat": 4,
  "nbformat_minor": 0,
  "metadata": {
    "colab": {
      "private_outputs": true,
      "provenance": [],
      "authorship_tag": "ABX9TyNMhXlWUnuGmMne/x/gT+Pt",
      "include_colab_link": true
    },
    "kernelspec": {
      "name": "python3",
      "display_name": "Python 3"
    },
    "language_info": {
      "name": "python"
    }
  },
  "cells": [
    {
      "cell_type": "markdown",
      "metadata": {
        "id": "view-in-github",
        "colab_type": "text"
      },
      "source": [
        "<a href=\"https://colab.research.google.com/github/Mahesh-219/oibsip_taskno3-python-/blob/main/Basic_Weather_app.ipynb\" target=\"_parent\"><img src=\"https://colab.research.google.com/assets/colab-badge.svg\" alt=\"Open In Colab\"/></a>"
      ]
    },
    {
      "cell_type": "code",
      "source": [
        "pip install requests\n"
      ],
      "metadata": {
        "id": "qqct_4T9ex9T"
      },
      "execution_count": null,
      "outputs": []
    },
    {
      "cell_type": "code",
      "source": [
        "import requests\n",
        "import json\n",
        "\n",
        "api_key = \"30a487897792fe4cd0268a30eaea16d3\"\n",
        "base_url = \"https://api.openweathermap.org/data/2.5/weather\"\n",
        "\n",
        "def get_weather(city):\n",
        "    params = {\n",
        "        \"q\": city,\n",
        "        \"appid\": api_key,\n",
        "        \"units\": \"metric\"\n",
        "    }\n",
        "\n",
        "    response = requests.get(base_url, params=params)\n",
        "    if response.status_code == 200:\n",
        "        try:\n",
        "            weather_data = json.loads(response.text)\n",
        "            return weather_data\n",
        "        except json.JSONDecodeError as e:\n",
        "            print(f\"Error decoding JSON: {e}\")\n",
        "            return None\n",
        "    else:\n",
        "        print(f\"Error occurred while fetching weather data. Status code: {response.status_code}\")\n",
        "        return None\n",
        "\n",
        "# Define functions to extract specific weather data\n",
        "def get_temperature(weather_data):\n",
        "    return weather_data['main']['temp'] if 'main' in weather_data and 'temp' in weather_data['main'] else None\n",
        "\n",
        "def get_humidity(weather_data):\n",
        "    return weather_data['main']['humidity'] if 'main' in weather_data and 'humidity' in weather_data['main'] else None\n",
        "\n",
        "def get_pressure(weather_data):\n",
        "    return weather_data['main']['pressure'] if 'main' in weather_data and 'pressure' in weather_data['main'] else None\n",
        "\n",
        "def get_wind_speed(weather_data):\n",
        "    return weather_data['wind']['speed'] if 'wind' in weather_data and 'speed' in weather_data['wind'] else None\n",
        "\n",
        "def get_weather_description(weather_data):\n",
        "    return weather_data['weather'][0]['description'] if 'weather' in weather_data and weather_data['weather'] else None\n",
        "\n",
        "def get_weather_icon(weather_data):\n",
        "    return weather_data['weather'][0]['icon'] if 'weather' in weather_data and weather_data['weather'] else None\n",
        "\n",
        "city = input(\"Enter city name: \")\n",
        "weather_data = get_weather(city)\n",
        "\n",
        "if weather_data:\n",
        "\n",
        "    print(\"Temperature:\", get_temperature(weather_data))\n",
        "    print(\"Humidity:\", get_humidity(weather_data))\n",
        "    print(\"Pressure:\", get_pressure(weather_data))\n",
        "    print(\"Wind Speed:\", get_wind_speed(weather_data))\n",
        "    print(\"Weather Description:\", get_weather_description(weather_data))\n",
        "    print(\"Weather Icon:\", get_weather_icon(weather_data))\n",
        "\n",
        "else:\n",
        "    print(\"Could not retrieve weather data.\")"
      ],
      "metadata": {
        "id": "RLHBDNQ7BOCi"
      },
      "execution_count": null,
      "outputs": []
    }
  ]
}